{
  "nbformat": 4,
  "nbformat_minor": 0,
  "metadata": {
    "colab": {
      "provenance": [],
      "collapsed_sections": [],
      "authorship_tag": "ABX9TyOwzBj8RNzjADTGz7g2WbWE",
      "include_colab_link": true
    },
    "kernelspec": {
      "name": "python3",
      "display_name": "Python 3"
    },
    "language_info": {
      "name": "python"
    }
  },
  "cells": [
    {
      "cell_type": "markdown",
      "metadata": {
        "id": "view-in-github",
        "colab_type": "text"
      },
      "source": [
        "<a href=\"https://colab.research.google.com/github/victoriawhite17/Mushroom-Class/blob/main/Mushroom_Predictions.ipynb\" target=\"_parent\"><img src=\"https://colab.research.google.com/assets/colab-badge.svg\" alt=\"Open In Colab\"/></a>"
      ]
    },
    {
      "cell_type": "code",
      "execution_count": 1,
      "metadata": {
        "colab": {
          "base_uri": "https://localhost:8080/"
        },
        "id": "RIpWMNJlRVB-",
        "outputId": "7557b740-dcea-4995-baea-a3c47188a35b"
      },
      "outputs": [
        {
          "output_type": "stream",
          "name": "stdout",
          "text": [
            "Drive already mounted at /content/drive; to attempt to forcibly remount, call drive.mount(\"/content/drive\", force_remount=True).\n"
          ]
        }
      ],
      "source": [
        "from google.colab import drive\n",
        "drive.mount('/content/drive')"
      ]
    },
    {
      "cell_type": "code",
      "source": [
        "import pandas as pd\n",
        "import numpy as np\n",
        "import seaborn as sns\n",
        "import matplotlib.pyplot as plt\n",
        "\n",
        "from sklearn.pipeline import make_pipeline\n",
        "from sklearn.ensemble import RandomForestClassifier\n",
        "from sklearn.decomposition import PCA\n",
        "from sklearn.linear_model import LogisticRegression\n",
        "from sklearn.neighbors import KNeighborsClassifier\n",
        "from sklearn.model_selection import train_test_split, GridSearchCV\n",
        "from sklearn.metrics import classification_report, confusion_matrix, ConfusionMatrixDisplay\n",
        "from sklearn.preprocessing import OneHotEncoder, StandardScaler"
      ],
      "metadata": {
        "id": "tUiv3GcFRYTf"
      },
      "execution_count": 114,
      "outputs": []
    },
    {
      "cell_type": "code",
      "source": [
        "df = pd.read_csv('https://docs.google.com/spreadsheets/d/e/2PACX-1vSbR55nE3zGH4o6GSFb04uc53sychDYZWEgRfQbjLo79r2yuCfZuFUVz9LDKkE3uBVj9vuRGB7mElVS/pub?gid=2046584450&single=true&output=csv')\n",
        "df.head()"
      ],
      "metadata": {
        "colab": {
          "base_uri": "https://localhost:8080/",
          "height": 297
        },
        "id": "x7kRBaDWRZmP",
        "outputId": "3ab6fd1d-dd63-4376-9b13-fc318413b1f1"
      },
      "execution_count": 3,
      "outputs": [
        {
          "output_type": "execute_result",
          "data": {
            "text/plain": [
              "  class cap-shape cap-surface cap-color bruises odor gill-attachment  \\\n",
              "0     p         x           s         n       t    p               f   \n",
              "1     e         x           s         y       t    a               f   \n",
              "2     e         b           s         w       t    l               f   \n",
              "3     p         x           y         w       t    p               f   \n",
              "4     e         x           s         g       f    n               f   \n",
              "\n",
              "  gill-spacing gill-size gill-color  ... stalk-surface-below-ring  \\\n",
              "0            c         n          k  ...                        s   \n",
              "1            c         b          k  ...                        s   \n",
              "2            c         b          n  ...                        s   \n",
              "3            c         n          n  ...                        s   \n",
              "4            w         b          k  ...                        s   \n",
              "\n",
              "  stalk-color-above-ring stalk-color-below-ring veil-type veil-color  \\\n",
              "0                      w                      w         p          w   \n",
              "1                      w                      w         p          w   \n",
              "2                      w                      w         p          w   \n",
              "3                      w                      w         p          w   \n",
              "4                      w                      w         p          w   \n",
              "\n",
              "  ring-number ring-type spore-print-color population habitat  \n",
              "0           o         p                 k          s       u  \n",
              "1           o         p                 n          n       g  \n",
              "2           o         p                 n          n       m  \n",
              "3           o         p                 k          s       u  \n",
              "4           o         e                 n          a       g  \n",
              "\n",
              "[5 rows x 23 columns]"
            ],
            "text/html": [
              "\n",
              "  <div id=\"df-39160424-0322-42fe-bc58-3c23d9cf33ea\">\n",
              "    <div class=\"colab-df-container\">\n",
              "      <div>\n",
              "<style scoped>\n",
              "    .dataframe tbody tr th:only-of-type {\n",
              "        vertical-align: middle;\n",
              "    }\n",
              "\n",
              "    .dataframe tbody tr th {\n",
              "        vertical-align: top;\n",
              "    }\n",
              "\n",
              "    .dataframe thead th {\n",
              "        text-align: right;\n",
              "    }\n",
              "</style>\n",
              "<table border=\"1\" class=\"dataframe\">\n",
              "  <thead>\n",
              "    <tr style=\"text-align: right;\">\n",
              "      <th></th>\n",
              "      <th>class</th>\n",
              "      <th>cap-shape</th>\n",
              "      <th>cap-surface</th>\n",
              "      <th>cap-color</th>\n",
              "      <th>bruises</th>\n",
              "      <th>odor</th>\n",
              "      <th>gill-attachment</th>\n",
              "      <th>gill-spacing</th>\n",
              "      <th>gill-size</th>\n",
              "      <th>gill-color</th>\n",
              "      <th>...</th>\n",
              "      <th>stalk-surface-below-ring</th>\n",
              "      <th>stalk-color-above-ring</th>\n",
              "      <th>stalk-color-below-ring</th>\n",
              "      <th>veil-type</th>\n",
              "      <th>veil-color</th>\n",
              "      <th>ring-number</th>\n",
              "      <th>ring-type</th>\n",
              "      <th>spore-print-color</th>\n",
              "      <th>population</th>\n",
              "      <th>habitat</th>\n",
              "    </tr>\n",
              "  </thead>\n",
              "  <tbody>\n",
              "    <tr>\n",
              "      <th>0</th>\n",
              "      <td>p</td>\n",
              "      <td>x</td>\n",
              "      <td>s</td>\n",
              "      <td>n</td>\n",
              "      <td>t</td>\n",
              "      <td>p</td>\n",
              "      <td>f</td>\n",
              "      <td>c</td>\n",
              "      <td>n</td>\n",
              "      <td>k</td>\n",
              "      <td>...</td>\n",
              "      <td>s</td>\n",
              "      <td>w</td>\n",
              "      <td>w</td>\n",
              "      <td>p</td>\n",
              "      <td>w</td>\n",
              "      <td>o</td>\n",
              "      <td>p</td>\n",
              "      <td>k</td>\n",
              "      <td>s</td>\n",
              "      <td>u</td>\n",
              "    </tr>\n",
              "    <tr>\n",
              "      <th>1</th>\n",
              "      <td>e</td>\n",
              "      <td>x</td>\n",
              "      <td>s</td>\n",
              "      <td>y</td>\n",
              "      <td>t</td>\n",
              "      <td>a</td>\n",
              "      <td>f</td>\n",
              "      <td>c</td>\n",
              "      <td>b</td>\n",
              "      <td>k</td>\n",
              "      <td>...</td>\n",
              "      <td>s</td>\n",
              "      <td>w</td>\n",
              "      <td>w</td>\n",
              "      <td>p</td>\n",
              "      <td>w</td>\n",
              "      <td>o</td>\n",
              "      <td>p</td>\n",
              "      <td>n</td>\n",
              "      <td>n</td>\n",
              "      <td>g</td>\n",
              "    </tr>\n",
              "    <tr>\n",
              "      <th>2</th>\n",
              "      <td>e</td>\n",
              "      <td>b</td>\n",
              "      <td>s</td>\n",
              "      <td>w</td>\n",
              "      <td>t</td>\n",
              "      <td>l</td>\n",
              "      <td>f</td>\n",
              "      <td>c</td>\n",
              "      <td>b</td>\n",
              "      <td>n</td>\n",
              "      <td>...</td>\n",
              "      <td>s</td>\n",
              "      <td>w</td>\n",
              "      <td>w</td>\n",
              "      <td>p</td>\n",
              "      <td>w</td>\n",
              "      <td>o</td>\n",
              "      <td>p</td>\n",
              "      <td>n</td>\n",
              "      <td>n</td>\n",
              "      <td>m</td>\n",
              "    </tr>\n",
              "    <tr>\n",
              "      <th>3</th>\n",
              "      <td>p</td>\n",
              "      <td>x</td>\n",
              "      <td>y</td>\n",
              "      <td>w</td>\n",
              "      <td>t</td>\n",
              "      <td>p</td>\n",
              "      <td>f</td>\n",
              "      <td>c</td>\n",
              "      <td>n</td>\n",
              "      <td>n</td>\n",
              "      <td>...</td>\n",
              "      <td>s</td>\n",
              "      <td>w</td>\n",
              "      <td>w</td>\n",
              "      <td>p</td>\n",
              "      <td>w</td>\n",
              "      <td>o</td>\n",
              "      <td>p</td>\n",
              "      <td>k</td>\n",
              "      <td>s</td>\n",
              "      <td>u</td>\n",
              "    </tr>\n",
              "    <tr>\n",
              "      <th>4</th>\n",
              "      <td>e</td>\n",
              "      <td>x</td>\n",
              "      <td>s</td>\n",
              "      <td>g</td>\n",
              "      <td>f</td>\n",
              "      <td>n</td>\n",
              "      <td>f</td>\n",
              "      <td>w</td>\n",
              "      <td>b</td>\n",
              "      <td>k</td>\n",
              "      <td>...</td>\n",
              "      <td>s</td>\n",
              "      <td>w</td>\n",
              "      <td>w</td>\n",
              "      <td>p</td>\n",
              "      <td>w</td>\n",
              "      <td>o</td>\n",
              "      <td>e</td>\n",
              "      <td>n</td>\n",
              "      <td>a</td>\n",
              "      <td>g</td>\n",
              "    </tr>\n",
              "  </tbody>\n",
              "</table>\n",
              "<p>5 rows × 23 columns</p>\n",
              "</div>\n",
              "      <button class=\"colab-df-convert\" onclick=\"convertToInteractive('df-39160424-0322-42fe-bc58-3c23d9cf33ea')\"\n",
              "              title=\"Convert this dataframe to an interactive table.\"\n",
              "              style=\"display:none;\">\n",
              "        \n",
              "  <svg xmlns=\"http://www.w3.org/2000/svg\" height=\"24px\"viewBox=\"0 0 24 24\"\n",
              "       width=\"24px\">\n",
              "    <path d=\"M0 0h24v24H0V0z\" fill=\"none\"/>\n",
              "    <path d=\"M18.56 5.44l.94 2.06.94-2.06 2.06-.94-2.06-.94-.94-2.06-.94 2.06-2.06.94zm-11 1L8.5 8.5l.94-2.06 2.06-.94-2.06-.94L8.5 2.5l-.94 2.06-2.06.94zm10 10l.94 2.06.94-2.06 2.06-.94-2.06-.94-.94-2.06-.94 2.06-2.06.94z\"/><path d=\"M17.41 7.96l-1.37-1.37c-.4-.4-.92-.59-1.43-.59-.52 0-1.04.2-1.43.59L10.3 9.45l-7.72 7.72c-.78.78-.78 2.05 0 2.83L4 21.41c.39.39.9.59 1.41.59.51 0 1.02-.2 1.41-.59l7.78-7.78 2.81-2.81c.8-.78.8-2.07 0-2.86zM5.41 20L4 18.59l7.72-7.72 1.47 1.35L5.41 20z\"/>\n",
              "  </svg>\n",
              "      </button>\n",
              "      \n",
              "  <style>\n",
              "    .colab-df-container {\n",
              "      display:flex;\n",
              "      flex-wrap:wrap;\n",
              "      gap: 12px;\n",
              "    }\n",
              "\n",
              "    .colab-df-convert {\n",
              "      background-color: #E8F0FE;\n",
              "      border: none;\n",
              "      border-radius: 50%;\n",
              "      cursor: pointer;\n",
              "      display: none;\n",
              "      fill: #1967D2;\n",
              "      height: 32px;\n",
              "      padding: 0 0 0 0;\n",
              "      width: 32px;\n",
              "    }\n",
              "\n",
              "    .colab-df-convert:hover {\n",
              "      background-color: #E2EBFA;\n",
              "      box-shadow: 0px 1px 2px rgba(60, 64, 67, 0.3), 0px 1px 3px 1px rgba(60, 64, 67, 0.15);\n",
              "      fill: #174EA6;\n",
              "    }\n",
              "\n",
              "    [theme=dark] .colab-df-convert {\n",
              "      background-color: #3B4455;\n",
              "      fill: #D2E3FC;\n",
              "    }\n",
              "\n",
              "    [theme=dark] .colab-df-convert:hover {\n",
              "      background-color: #434B5C;\n",
              "      box-shadow: 0px 1px 3px 1px rgba(0, 0, 0, 0.15);\n",
              "      filter: drop-shadow(0px 1px 2px rgba(0, 0, 0, 0.3));\n",
              "      fill: #FFFFFF;\n",
              "    }\n",
              "  </style>\n",
              "\n",
              "      <script>\n",
              "        const buttonEl =\n",
              "          document.querySelector('#df-39160424-0322-42fe-bc58-3c23d9cf33ea button.colab-df-convert');\n",
              "        buttonEl.style.display =\n",
              "          google.colab.kernel.accessAllowed ? 'block' : 'none';\n",
              "\n",
              "        async function convertToInteractive(key) {\n",
              "          const element = document.querySelector('#df-39160424-0322-42fe-bc58-3c23d9cf33ea');\n",
              "          const dataTable =\n",
              "            await google.colab.kernel.invokeFunction('convertToInteractive',\n",
              "                                                     [key], {});\n",
              "          if (!dataTable) return;\n",
              "\n",
              "          const docLinkHtml = 'Like what you see? Visit the ' +\n",
              "            '<a target=\"_blank\" href=https://colab.research.google.com/notebooks/data_table.ipynb>data table notebook</a>'\n",
              "            + ' to learn more about interactive tables.';\n",
              "          element.innerHTML = '';\n",
              "          dataTable['output_type'] = 'display_data';\n",
              "          await google.colab.output.renderOutput(dataTable, element);\n",
              "          const docLink = document.createElement('div');\n",
              "          docLink.innerHTML = docLinkHtml;\n",
              "          element.appendChild(docLink);\n",
              "        }\n",
              "      </script>\n",
              "    </div>\n",
              "  </div>\n",
              "  "
            ]
          },
          "metadata": {},
          "execution_count": 3
        }
      ]
    },
    {
      "cell_type": "code",
      "source": [
        "ml_df = df.copy()"
      ],
      "metadata": {
        "id": "POLjcwomRj4g"
      },
      "execution_count": 4,
      "outputs": []
    },
    {
      "cell_type": "code",
      "source": [
        "ml_df.info()"
      ],
      "metadata": {
        "colab": {
          "base_uri": "https://localhost:8080/"
        },
        "id": "efx1gb70Rlla",
        "outputId": "8e5f18a1-386d-4797-b2bb-92b7907acdb3"
      },
      "execution_count": 5,
      "outputs": [
        {
          "output_type": "stream",
          "name": "stdout",
          "text": [
            "<class 'pandas.core.frame.DataFrame'>\n",
            "RangeIndex: 8124 entries, 0 to 8123\n",
            "Data columns (total 23 columns):\n",
            " #   Column                    Non-Null Count  Dtype \n",
            "---  ------                    --------------  ----- \n",
            " 0   class                     8124 non-null   object\n",
            " 1   cap-shape                 8124 non-null   object\n",
            " 2   cap-surface               8124 non-null   object\n",
            " 3   cap-color                 8124 non-null   object\n",
            " 4   bruises                   8124 non-null   object\n",
            " 5   odor                      8124 non-null   object\n",
            " 6   gill-attachment           8124 non-null   object\n",
            " 7   gill-spacing              8124 non-null   object\n",
            " 8   gill-size                 8124 non-null   object\n",
            " 9   gill-color                8124 non-null   object\n",
            " 10  stalk-shape               8124 non-null   object\n",
            " 11  stalk-root                8124 non-null   object\n",
            " 12  stalk-surface-above-ring  8124 non-null   object\n",
            " 13  stalk-surface-below-ring  8124 non-null   object\n",
            " 14  stalk-color-above-ring    8124 non-null   object\n",
            " 15  stalk-color-below-ring    8124 non-null   object\n",
            " 16  veil-type                 8124 non-null   object\n",
            " 17  veil-color                8124 non-null   object\n",
            " 18  ring-number               8124 non-null   object\n",
            " 19  ring-type                 8124 non-null   object\n",
            " 20  spore-print-color         8124 non-null   object\n",
            " 21  population                8124 non-null   object\n",
            " 22  habitat                   8124 non-null   object\n",
            "dtypes: object(23)\n",
            "memory usage: 1.4+ MB\n"
          ]
        }
      ]
    },
    {
      "cell_type": "markdown",
      "source": [
        "##Checking for Missing Values and Dropping Duplicates"
      ],
      "metadata": {
        "id": "WTBtGC8qRqYV"
      }
    },
    {
      "cell_type": "code",
      "source": [
        "ml_df.isna().sum()"
      ],
      "metadata": {
        "colab": {
          "base_uri": "https://localhost:8080/"
        },
        "id": "aNYZQsX6RrSt",
        "outputId": "27bb70ef-e8fa-4c0a-cecc-c58ea677df71"
      },
      "execution_count": 6,
      "outputs": [
        {
          "output_type": "execute_result",
          "data": {
            "text/plain": [
              "class                       0\n",
              "cap-shape                   0\n",
              "cap-surface                 0\n",
              "cap-color                   0\n",
              "bruises                     0\n",
              "odor                        0\n",
              "gill-attachment             0\n",
              "gill-spacing                0\n",
              "gill-size                   0\n",
              "gill-color                  0\n",
              "stalk-shape                 0\n",
              "stalk-root                  0\n",
              "stalk-surface-above-ring    0\n",
              "stalk-surface-below-ring    0\n",
              "stalk-color-above-ring      0\n",
              "stalk-color-below-ring      0\n",
              "veil-type                   0\n",
              "veil-color                  0\n",
              "ring-number                 0\n",
              "ring-type                   0\n",
              "spore-print-color           0\n",
              "population                  0\n",
              "habitat                     0\n",
              "dtype: int64"
            ]
          },
          "metadata": {},
          "execution_count": 6
        }
      ]
    },
    {
      "cell_type": "markdown",
      "source": [
        "There are no missing values in our dataset. "
      ],
      "metadata": {
        "id": "ZWOe60WFRvhq"
      }
    },
    {
      "cell_type": "code",
      "source": [
        "ml_df.duplicated().sum()"
      ],
      "metadata": {
        "colab": {
          "base_uri": "https://localhost:8080/"
        },
        "id": "2IByenv6RteA",
        "outputId": "b35816db-8ec8-4a3f-da8c-6f2b67c13558"
      },
      "execution_count": 7,
      "outputs": [
        {
          "output_type": "execute_result",
          "data": {
            "text/plain": [
              "0"
            ]
          },
          "metadata": {},
          "execution_count": 7
        }
      ]
    },
    {
      "cell_type": "markdown",
      "source": [
        "There are no duplicates in our dataset."
      ],
      "metadata": {
        "id": "SeBa7FEbRxzJ"
      }
    },
    {
      "cell_type": "code",
      "source": [
        "#checking for errors or any variations in data\n",
        "print('Class')\n",
        "print(ml_df['class'].value_counts())\n",
        "print('Cap Shape')\n",
        "print(ml_df['cap-shape'].value_counts())\n",
        "print('Cap Surface')\n",
        "print(ml_df['cap-surface'].value_counts())\n",
        "print('Cap Color')\n",
        "print(ml_df['cap-color'].value_counts())\n",
        "print('Bruises')\n",
        "print(ml_df['bruises'].value_counts())\n",
        "print('Gill Attachment')\n",
        "print(ml_df['gill-attachment'].value_counts())\n",
        "print('Gill Spacing')\n",
        "print(ml_df['gill-spacing'].value_counts())\n",
        "print('Gill Size')\n",
        "print(ml_df['gill-size'].value_counts())\n",
        "print('Gill Color')\n",
        "print(ml_df['gill-color'].value_counts())\n",
        "print('Stalk Shape')\n",
        "print(ml_df['stalk-shape'].value_counts())\n",
        "print('Stalk Root')\n",
        "print(ml_df['stalk-root'].value_counts())\n",
        "print('Stalk Surface Above Ring')\n",
        "print(ml_df['stalk-surface-above-ring'].value_counts())\n",
        "print('Stalk Surface Below Ring')\n",
        "print(ml_df['stalk-surface-below-ring'].value_counts())\n",
        "print('Stalk Color Above Ring')\n",
        "print(ml_df['stalk-color-above-ring'].value_counts())\n",
        "print('Stalk Color Below Ring')\n",
        "print(ml_df['stalk-color-below-ring'].value_counts())\n",
        "print('Veil Type')\n",
        "print(ml_df['veil-type'].value_counts())\n",
        "print('Veil Color')\n",
        "print(ml_df['veil-color'].value_counts())\n",
        "print('Ring Number')\n",
        "print(ml_df['ring-number'].value_counts())\n",
        "print('Ring Type')\n",
        "print(ml_df['ring-type'].value_counts())\n",
        "print('Spore Print Color')\n",
        "print(ml_df['spore-print-color'].value_counts())\n",
        "print('Population')\n",
        "print(ml_df['population'].value_counts())\n",
        "print('Habitat')\n",
        "print(ml_df['habitat'].value_counts())"
      ],
      "metadata": {
        "colab": {
          "base_uri": "https://localhost:8080/"
        },
        "id": "4ZPuO-YjRzHn",
        "outputId": "c35df04b-20bb-47bb-9b2a-f69e6be28f0c"
      },
      "execution_count": 8,
      "outputs": [
        {
          "output_type": "stream",
          "name": "stdout",
          "text": [
            "Class\n",
            "e    4208\n",
            "p    3916\n",
            "Name: class, dtype: int64\n",
            "Cap Shape\n",
            "x    3656\n",
            "f    3152\n",
            "k     828\n",
            "b     452\n",
            "s      32\n",
            "c       4\n",
            "Name: cap-shape, dtype: int64\n",
            "Cap Surface\n",
            "y    3244\n",
            "s    2556\n",
            "f    2320\n",
            "g       4\n",
            "Name: cap-surface, dtype: int64\n",
            "Cap Color\n",
            "n    2284\n",
            "g    1840\n",
            "e    1500\n",
            "y    1072\n",
            "w    1040\n",
            "b     168\n",
            "p     144\n",
            "c      44\n",
            "u      16\n",
            "r      16\n",
            "Name: cap-color, dtype: int64\n",
            "Bruises\n",
            "f    4748\n",
            "t    3376\n",
            "Name: bruises, dtype: int64\n",
            "Gill Attachment\n",
            "f    7914\n",
            "a     210\n",
            "Name: gill-attachment, dtype: int64\n",
            "Gill Spacing\n",
            "c    6812\n",
            "w    1312\n",
            "Name: gill-spacing, dtype: int64\n",
            "Gill Size\n",
            "b    5612\n",
            "n    2512\n",
            "Name: gill-size, dtype: int64\n",
            "Gill Color\n",
            "b    1728\n",
            "p    1492\n",
            "w    1202\n",
            "n    1048\n",
            "g     752\n",
            "h     732\n",
            "u     492\n",
            "k     408\n",
            "e      96\n",
            "y      86\n",
            "o      64\n",
            "r      24\n",
            "Name: gill-color, dtype: int64\n",
            "Stalk Shape\n",
            "t    4608\n",
            "e    3516\n",
            "Name: stalk-shape, dtype: int64\n",
            "Stalk Root\n",
            "b    3776\n",
            "?    2480\n",
            "e    1120\n",
            "c     556\n",
            "r     192\n",
            "Name: stalk-root, dtype: int64\n",
            "Stalk Surface Above Ring\n",
            "s    5176\n",
            "k    2372\n",
            "f     552\n",
            "y      24\n",
            "Name: stalk-surface-above-ring, dtype: int64\n",
            "Stalk Surface Below Ring\n",
            "s    4936\n",
            "k    2304\n",
            "f     600\n",
            "y     284\n",
            "Name: stalk-surface-below-ring, dtype: int64\n",
            "Stalk Color Above Ring\n",
            "w    4464\n",
            "p    1872\n",
            "g     576\n",
            "n     448\n",
            "b     432\n",
            "o     192\n",
            "e      96\n",
            "c      36\n",
            "y       8\n",
            "Name: stalk-color-above-ring, dtype: int64\n",
            "Stalk Color Below Ring\n",
            "w    4384\n",
            "p    1872\n",
            "g     576\n",
            "n     512\n",
            "b     432\n",
            "o     192\n",
            "e      96\n",
            "c      36\n",
            "y      24\n",
            "Name: stalk-color-below-ring, dtype: int64\n",
            "Veil Type\n",
            "p    8124\n",
            "Name: veil-type, dtype: int64\n",
            "Veil Color\n",
            "w    7924\n",
            "n      96\n",
            "o      96\n",
            "y       8\n",
            "Name: veil-color, dtype: int64\n",
            "Ring Number\n",
            "o    7488\n",
            "t     600\n",
            "n      36\n",
            "Name: ring-number, dtype: int64\n",
            "Ring Type\n",
            "p    3968\n",
            "e    2776\n",
            "l    1296\n",
            "f      48\n",
            "n      36\n",
            "Name: ring-type, dtype: int64\n",
            "Spore Print Color\n",
            "w    2388\n",
            "n    1968\n",
            "k    1872\n",
            "h    1632\n",
            "r      72\n",
            "u      48\n",
            "o      48\n",
            "y      48\n",
            "b      48\n",
            "Name: spore-print-color, dtype: int64\n",
            "Population\n",
            "v    4040\n",
            "y    1712\n",
            "s    1248\n",
            "n     400\n",
            "a     384\n",
            "c     340\n",
            "Name: population, dtype: int64\n",
            "Habitat\n",
            "d    3148\n",
            "g    2148\n",
            "p    1144\n",
            "l     832\n",
            "u     368\n",
            "m     292\n",
            "w     192\n",
            "Name: habitat, dtype: int64\n"
          ]
        }
      ]
    },
    {
      "cell_type": "markdown",
      "source": [
        "We see that stalk root has 2480 missing values.  ?    2480 We have enough features in our dataset about characteristics of the stalk of a mushroom, so we will drop this feature with such a high missing value."
      ],
      "metadata": {
        "id": "_ytUHUWeaMjb"
      }
    },
    {
      "cell_type": "code",
      "source": [
        "ml_df.drop(columns=['stalk-root'], inplace=True)"
      ],
      "metadata": {
        "id": "ZQ4lqSQESvi-"
      },
      "execution_count": 9,
      "outputs": []
    },
    {
      "cell_type": "markdown",
      "source": [
        "##Preprocessing"
      ],
      "metadata": {
        "id": "vH4Yj-mJawmq"
      }
    },
    {
      "cell_type": "code",
      "source": [
        "ohe = OneHotEncoder(handle_unknown='ignore', sparse=False)\n",
        "#setting PCA to retain 85% of the variance\n",
        "pca = PCA(n_components=0.85, random_state=42)"
      ],
      "metadata": {
        "id": "oHPYXjRMxhG-"
      },
      "execution_count": 120,
      "outputs": []
    },
    {
      "cell_type": "code",
      "source": [
        "#train test split to avoid data leakage\n",
        "X = ml_df.drop(columns=['class'])\n",
        "y = ml_df['class']\n",
        "\n",
        "X_train, X_test, y_train, y_test = train_test_split(X, y, random_state=42)"
      ],
      "metadata": {
        "id": "pxQb3i84cH8q"
      },
      "execution_count": 75,
      "outputs": []
    },
    {
      "cell_type": "code",
      "source": [
        "#creating pipeline for models\n",
        "knn = KNeighborsClassifier()\n",
        "lr = LogisticRegression(max_iter=1000, random_state=42)\n",
        "rf = RandomForestClassifier(random_state=42)\n",
        "\n",
        "knn_pipe = make_pipeline(ohe, pca, knn)\n",
        "lr_pipe = make_pipeline(ohe, pca, lr)\n",
        "rf_pipe = make_pipeline(ohe, pca, rf)"
      ],
      "metadata": {
        "id": "PXRLby9fDKlO"
      },
      "execution_count": 116,
      "outputs": []
    },
    {
      "cell_type": "markdown",
      "source": [
        "##Logistic Regression"
      ],
      "metadata": {
        "id": "-GzmXlNXGACZ"
      }
    },
    {
      "cell_type": "code",
      "source": [
        "lr_pipe.fit(X_train, y_train)"
      ],
      "metadata": {
        "colab": {
          "base_uri": "https://localhost:8080/"
        },
        "id": "ABV9cT9v9T6n",
        "outputId": "fc49c928-0fcc-44b2-d624-d03de13cd965"
      },
      "execution_count": 86,
      "outputs": [
        {
          "output_type": "execute_result",
          "data": {
            "text/plain": [
              "Pipeline(steps=[('onehotencoder',\n",
              "                 OneHotEncoder(handle_unknown='ignore', sparse=False)),\n",
              "                ('pca', PCA(n_components=0.85, random_state=42)),\n",
              "                ('logisticregression',\n",
              "                 LogisticRegression(max_iter=1000, random_state=42))])"
            ]
          },
          "metadata": {},
          "execution_count": 86
        }
      ]
    },
    {
      "cell_type": "code",
      "source": [
        "#finding the predictions from our model\n",
        "train_lr_pred = lr_pipe.predict(X_train)\n",
        "test_lr_pred = lr_pipe.predict(X_test)"
      ],
      "metadata": {
        "id": "pk_KFMXBFLr8"
      },
      "execution_count": 87,
      "outputs": []
    },
    {
      "cell_type": "code",
      "source": [
        "#evaluating model performance\n",
        "lr_train_report = classification_report(y_train, train_lr_pred)\n",
        "lr_test_report = classification_report(y_test, test_lr_pred)\n",
        "print('LogReg Test Classification Report')\n",
        "print(lr_test_report)\n",
        "print('LogReg Train Classification Report')\n",
        "print(lr_train_report)"
      ],
      "metadata": {
        "colab": {
          "base_uri": "https://localhost:8080/"
        },
        "id": "_4omSARPFds7",
        "outputId": "c3efed4c-8a24-4529-bda0-e89dd7604ed8"
      },
      "execution_count": 88,
      "outputs": [
        {
          "output_type": "stream",
          "name": "stdout",
          "text": [
            "LogReg Test Classification Report\n",
            "              precision    recall  f1-score   support\n",
            "\n",
            "           e       0.98      0.98      0.98      1040\n",
            "           p       0.98      0.97      0.98       991\n",
            "\n",
            "    accuracy                           0.98      2031\n",
            "   macro avg       0.98      0.98      0.98      2031\n",
            "weighted avg       0.98      0.98      0.98      2031\n",
            "\n",
            "LogReg Train Classification Report\n",
            "              precision    recall  f1-score   support\n",
            "\n",
            "           e       0.97      0.99      0.98      3168\n",
            "           p       0.98      0.97      0.98      2925\n",
            "\n",
            "    accuracy                           0.98      6093\n",
            "   macro avg       0.98      0.98      0.98      6093\n",
            "weighted avg       0.98      0.98      0.98      6093\n",
            "\n"
          ]
        }
      ]
    },
    {
      "cell_type": "markdown",
      "source": [
        "Overall it appeears our model did a good job with predictions. We see that our training data and testing data match each other resulting in a model with overall high accuracy, recall, and precision."
      ],
      "metadata": {
        "id": "gW4BYeqXzbF-"
      }
    },
    {
      "cell_type": "markdown",
      "source": [
        "##Hypertuning Logistic Regression Model"
      ],
      "metadata": {
        "id": "3fgms-15ql7i"
      }
    },
    {
      "cell_type": "code",
      "source": [
        "lr.get_params()"
      ],
      "metadata": {
        "colab": {
          "base_uri": "https://localhost:8080/"
        },
        "id": "iSXhyvDLrjjm",
        "outputId": "d944a2e7-824b-4435-bd68-82f8d80d020b"
      },
      "execution_count": 89,
      "outputs": [
        {
          "output_type": "execute_result",
          "data": {
            "text/plain": [
              "{'C': 1.0,\n",
              " 'class_weight': None,\n",
              " 'dual': False,\n",
              " 'fit_intercept': True,\n",
              " 'intercept_scaling': 1,\n",
              " 'l1_ratio': None,\n",
              " 'max_iter': 1000,\n",
              " 'multi_class': 'auto',\n",
              " 'n_jobs': None,\n",
              " 'penalty': 'l2',\n",
              " 'random_state': 42,\n",
              " 'solver': 'lbfgs',\n",
              " 'tol': 0.0001,\n",
              " 'verbose': 0,\n",
              " 'warm_start': False}"
            ]
          },
          "metadata": {},
          "execution_count": 89
        }
      ]
    },
    {
      "cell_type": "code",
      "source": [
        "#setting parameters\n",
        "lr_param_grid = {'C': [0.1, 1, 10, 100, 1000]}"
      ],
      "metadata": {
        "id": "fAN6La-NrRlI"
      },
      "execution_count": 90,
      "outputs": []
    },
    {
      "cell_type": "code",
      "source": [
        "#using GridSearch to quickly find best parameter\n",
        "lr_grid_search = GridSearchCV(lr, lr_param_grid)\n",
        "lr_grid_pipe = make_pipeline(ohe, pca, lr_grid_search)\n",
        "lr_grid_pipe.fit(X_train, y_train)\n",
        "lr_best_params = lr_grid_search.best_params_\n",
        "lr_best_params"
      ],
      "metadata": {
        "colab": {
          "base_uri": "https://localhost:8080/"
        },
        "id": "81DkO0Mwr3TY",
        "outputId": "0513b49f-c486-480b-c93e-f711fd99252c"
      },
      "execution_count": 91,
      "outputs": [
        {
          "output_type": "execute_result",
          "data": {
            "text/plain": [
              "{'C': 10}"
            ]
          },
          "metadata": {},
          "execution_count": 91
        }
      ]
    },
    {
      "cell_type": "code",
      "source": [
        "#hypertuning with best parameters\n",
        "best_lr = LogisticRegression(C=10, max_iter=1000, random_state=42)\n",
        "best_lr_pipe = make_pipeline(ohe, pca, best_lr)"
      ],
      "metadata": {
        "id": "AN58FZoXsiyG"
      },
      "execution_count": 92,
      "outputs": []
    },
    {
      "cell_type": "code",
      "source": [
        "#finding new predictions with best parameters\n",
        "best_lr_pipe.fit(X_train, y_train)\n",
        "lr2_train_pred = best_lr_pipe.predict(X_train)\n",
        "lr2_test_pred = best_lr_pipe.predict(X_test)"
      ],
      "metadata": {
        "id": "cGkVs94-tm7O"
      },
      "execution_count": 93,
      "outputs": []
    },
    {
      "cell_type": "code",
      "source": [
        "#evaluating hypertuned model performance\n",
        "lr2_train_report = classification_report(lr2_train_pred, y_train)\n",
        "lr2_test_report = classification_report(lr2_test_pred, y_test)\n",
        "print('LogReg Train Classification Report')\n",
        "print(lr2_train_report)\n",
        "print('LogReg Test Classification Report')\n",
        "print(lr2_test_report)"
      ],
      "metadata": {
        "colab": {
          "base_uri": "https://localhost:8080/"
        },
        "id": "b6BjmJVut-qI",
        "outputId": "5a94d308-0398-459a-b81c-32601201ae39"
      },
      "execution_count": 94,
      "outputs": [
        {
          "output_type": "stream",
          "name": "stdout",
          "text": [
            "LogReg Train Classification Report\n",
            "              precision    recall  f1-score   support\n",
            "\n",
            "           e       0.98      0.98      0.98      3196\n",
            "           p       0.97      0.98      0.98      2897\n",
            "\n",
            "    accuracy                           0.98      6093\n",
            "   macro avg       0.98      0.98      0.98      6093\n",
            "weighted avg       0.98      0.98      0.98      6093\n",
            "\n",
            "LogReg Test Classification Report\n",
            "              precision    recall  f1-score   support\n",
            "\n",
            "           e       0.98      0.98      0.98      1046\n",
            "           p       0.97      0.98      0.98       985\n",
            "\n",
            "    accuracy                           0.98      2031\n",
            "   macro avg       0.98      0.98      0.98      2031\n",
            "weighted avg       0.98      0.98      0.98      2031\n",
            "\n"
          ]
        }
      ]
    },
    {
      "cell_type": "code",
      "source": [
        "#creating confusion metrix to see how our model performed\n",
        "fig, axes = plt.subplots(1, 2, figsize=(15,8))\n",
        "ConfusionMatrixDisplay.from_predictions(y_test, test_lr_pred, ax=axes[0])\n",
        "axes[0].set_title('Logistic Regression Confusion Matrix')\n",
        "ConfusionMatrixDisplay.from_predictions(y_test, lr2_test_pred, ax=axes[1])\n",
        "axes[1].set_title('Tuned Logistic Regression Confusion Matrix');"
      ],
      "metadata": {
        "colab": {
          "base_uri": "https://localhost:8080/",
          "height": 466
        },
        "id": "J4YyVZyZuYl1",
        "outputId": "11e03dea-00f6-477c-9686-daf73a141f55"
      },
      "execution_count": 95,
      "outputs": [
        {
          "output_type": "display_data",
          "data": {
            "text/plain": [
              "<Figure size 1080x576 with 4 Axes>"
            ],
            "image/png": "[encoded data removed]"
          },
          "metadata": {
            "needs_background": "light"
          }
        }
      ]
    },
    {
      "cell_type": "markdown",
      "source": [
        "We see that we have over 26/27 mushrooms that were poisonous, but were labelled edible. This is a costly error and we would want to reduce it. Even after tuning, we see that our model stays similar with our tuned Logistic Regression model having the best results with 25 false negatives."
      ],
      "metadata": {
        "id": "TbRj-xTBvYrG"
      }
    },
    {
      "cell_type": "markdown",
      "source": [
        "##KNN"
      ],
      "metadata": {
        "id": "AkFQ2kC_GFJk"
      }
    },
    {
      "cell_type": "code",
      "source": [
        "#fitting model on our data and finding predictions\n",
        "knn_pipe.fit(X_train, y_train)\n",
        "knn_train_pred = knn_pipe.predict(X_train)\n",
        "knn_test_pred = knn_pipe.predict(X_test)"
      ],
      "metadata": {
        "id": "qOcT7tiPGbX3"
      },
      "execution_count": 96,
      "outputs": []
    },
    {
      "cell_type": "code",
      "source": [
        "#classification report to see how our model performs\n",
        "knn_train_report = classification_report(y_train, knn_train_pred)\n",
        "knn_test_report = classification_report(y_test, knn_test_pred)\n",
        "print('KNN Train Classification Report')\n",
        "print(knn_train_report)\n",
        "print('KNN Test Classification Report')\n",
        "print(knn_test_report)"
      ],
      "metadata": {
        "colab": {
          "base_uri": "https://localhost:8080/"
        },
        "id": "3nKcl3JVGtZL",
        "outputId": "d94c20f9-2fef-48dd-e172-15eff5dd4ba6"
      },
      "execution_count": 97,
      "outputs": [
        {
          "output_type": "stream",
          "name": "stdout",
          "text": [
            "KNN Train Classification Report\n",
            "              precision    recall  f1-score   support\n",
            "\n",
            "           e       1.00      1.00      1.00      3168\n",
            "           p       1.00      1.00      1.00      2925\n",
            "\n",
            "    accuracy                           1.00      6093\n",
            "   macro avg       1.00      1.00      1.00      6093\n",
            "weighted avg       1.00      1.00      1.00      6093\n",
            "\n",
            "KNN Test Classification Report\n",
            "              precision    recall  f1-score   support\n",
            "\n",
            "           e       1.00      1.00      1.00      1040\n",
            "           p       1.00      1.00      1.00       991\n",
            "\n",
            "    accuracy                           1.00      2031\n",
            "   macro avg       1.00      1.00      1.00      2031\n",
            "weighted avg       1.00      1.00      1.00      2031\n",
            "\n"
          ]
        }
      ]
    },
    {
      "cell_type": "markdown",
      "source": [
        "Overall the KNN model seems to perform perfectly on this dataset. There is a high correlatiom between features in this dataset that result in a perfect performance by our KNN model."
      ],
      "metadata": {
        "id": "DNxFexOXwmJ1"
      }
    },
    {
      "cell_type": "markdown",
      "source": [
        "##Hypertuning KNN Model"
      ],
      "metadata": {
        "id": "XCj46hHYIv2p"
      }
    },
    {
      "cell_type": "code",
      "source": [
        "knn.get_params()"
      ],
      "metadata": {
        "colab": {
          "base_uri": "https://localhost:8080/"
        },
        "id": "0XSUscHmIovd",
        "outputId": "846fa021-8cd7-4f82-d999-a03111451987"
      },
      "execution_count": 98,
      "outputs": [
        {
          "output_type": "execute_result",
          "data": {
            "text/plain": [
              "{'algorithm': 'auto',\n",
              " 'leaf_size': 30,\n",
              " 'metric': 'minkowski',\n",
              " 'metric_params': None,\n",
              " 'n_jobs': None,\n",
              " 'n_neighbors': 5,\n",
              " 'p': 2,\n",
              " 'weights': 'uniform'}"
            ]
          },
          "metadata": {},
          "execution_count": 98
        }
      ]
    },
    {
      "cell_type": "code",
      "source": [
        "#setting parameters\n",
        "knn_param_grid = {'n_neighbors': [5,10,15],\n",
        "                  'leaf_size': [15, 30, 45]}"
      ],
      "metadata": {
        "id": "O2yznjaAk6g_"
      },
      "execution_count": 99,
      "outputs": []
    },
    {
      "cell_type": "code",
      "source": [
        "#using GridSearch to quickly find best parameters\n",
        "knn_grid_search = GridSearchCV(knn, knn_param_grid)\n",
        "knn_grid_pipe = make_pipeline(ohe, pca, knn_grid_search)\n",
        "knn_grid_pipe.fit(X_train, y_train)"
      ],
      "metadata": {
        "colab": {
          "base_uri": "https://localhost:8080/"
        },
        "id": "ECJF77-zlYRw",
        "outputId": "b2ca6009-96e7-469a-9678-5f1ba1b028e0"
      },
      "execution_count": 100,
      "outputs": [
        {
          "output_type": "execute_result",
          "data": {
            "text/plain": [
              "Pipeline(steps=[('onehotencoder',\n",
              "                 OneHotEncoder(handle_unknown='ignore', sparse=False)),\n",
              "                ('pca', PCA(n_components=0.85, random_state=42)),\n",
              "                ('gridsearchcv',\n",
              "                 GridSearchCV(estimator=KNeighborsClassifier(),\n",
              "                              param_grid={'leaf_size': [15, 30, 45],\n",
              "                                          'n_neighbors': [5, 10, 15]}))])"
            ]
          },
          "metadata": {},
          "execution_count": 100
        }
      ]
    },
    {
      "cell_type": "code",
      "source": [
        "best_knn = knn_grid_search.best_estimator_\n",
        "best_knn"
      ],
      "metadata": {
        "colab": {
          "base_uri": "https://localhost:8080/"
        },
        "id": "cgUWYLv7mb6H",
        "outputId": "8239af75-5475-4236-87c2-f84968a06788"
      },
      "execution_count": 101,
      "outputs": [
        {
          "output_type": "execute_result",
          "data": {
            "text/plain": [
              "KNeighborsClassifier(leaf_size=15)"
            ]
          },
          "metadata": {},
          "execution_count": 101
        }
      ]
    },
    {
      "cell_type": "code",
      "source": [
        "#hypertuning our model with best parameters\n",
        "knn15 = KNeighborsClassifier(leaf_size=15)\n",
        "knn15_pipe = make_pipeline(ohe, pca, knn15)\n",
        "knn15_pipe.fit(X_train, y_train)\n",
        "knn15_train_pred = knn15_pipe.predict(X_train)\n",
        "knn15_test_pred = knn15_pipe.predict(X_test)"
      ],
      "metadata": {
        "id": "td7Hz1Zmm6lo"
      },
      "execution_count": 107,
      "outputs": []
    },
    {
      "cell_type": "code",
      "source": [
        "knn15_train_report = classification_report(knn15_train_pred, y_train)\n",
        "knn15_test_report = classification_report(knn15_test_pred, y_test)\n",
        "print('KNN-15 Train Classification Report')\n",
        "print(knn15_train_report)\n",
        "print('KNN-15 Test Classification Report')\n",
        "print(knn15_test_report)"
      ],
      "metadata": {
        "colab": {
          "base_uri": "https://localhost:8080/"
        },
        "id": "kI3dBovUnrC1",
        "outputId": "db333388-aede-4636-c021-a371bd162fc3"
      },
      "execution_count": 110,
      "outputs": [
        {
          "output_type": "stream",
          "name": "stdout",
          "text": [
            "KNN-15 Train Classification Report\n",
            "              precision    recall  f1-score   support\n",
            "\n",
            "           e       1.00      1.00      1.00      3168\n",
            "           p       1.00      1.00      1.00      2925\n",
            "\n",
            "    accuracy                           1.00      6093\n",
            "   macro avg       1.00      1.00      1.00      6093\n",
            "weighted avg       1.00      1.00      1.00      6093\n",
            "\n",
            "KNN-15 Test Classification Report\n",
            "              precision    recall  f1-score   support\n",
            "\n",
            "           e       1.00      1.00      1.00      1040\n",
            "           p       1.00      1.00      1.00       991\n",
            "\n",
            "    accuracy                           1.00      2031\n",
            "   macro avg       1.00      1.00      1.00      2031\n",
            "weighted avg       1.00      1.00      1.00      2031\n",
            "\n"
          ]
        }
      ]
    },
    {
      "cell_type": "code",
      "source": [
        "fig, axes = plt.subplots(1,2, figsize=(15,5))\n",
        "ConfusionMatrixDisplay.from_predictions(y_test, knn_test_pred, ax=axes[0])\n",
        "axes[0].set_title('KNN Predictions')\n",
        "ConfusionMatrixDisplay.from_predictions(y_test, knn10_test_pred, ax=axes[1])\n",
        "axes[1].set_title('KNN-15 Predictions');"
      ],
      "metadata": {
        "colab": {
          "base_uri": "https://localhost:8080/",
          "height": 350
        },
        "id": "_9K9Gt83opWb",
        "outputId": "3c818477-cd6e-4634-d78a-62596539a2cc"
      },
      "execution_count": 111,
      "outputs": [
        {
          "output_type": "display_data",
          "data": {
            "text/plain": [
              "<Figure size 1080x360 with 4 Axes>"
            ],
            "image/png": "[encoded data removed]"
          },
          "metadata": {
            "needs_background": "light"
          }
        }
      ]
    },
    {
      "cell_type": "markdown",
      "source": [
        "We see our original KNN model and our tuned KNN model performed the same. Both models can predict training and testing data because our features have a high correlation with each other. "
      ],
      "metadata": {
        "id": "xtdAT-HioS4k"
      }
    },
    {
      "cell_type": "markdown",
      "source": [
        "#Results"
      ],
      "metadata": {
        "id": "Rgkmcl7a2vPm"
      }
    },
    {
      "cell_type": "code",
      "source": [
        "fig, axes = plt.subplots(1,2, figsize=(15,5))\n",
        "ConfusionMatrixDisplay.from_predictions(y_test, test_lr_pred, ax=axes[0])\n",
        "axes[0].set_title('Logistic Regression Confusion Matrix')\n",
        "ConfusionMatrixDisplay.from_predictions(y_test, knn_test_pred, ax=axes[1])\n",
        "axes[1].set_title('KNN Predictions');"
      ],
      "metadata": {
        "colab": {
          "base_uri": "https://localhost:8080/",
          "height": 350
        },
        "id": "nSBi-AhA1UXH",
        "outputId": "3ea70d97-ce5d-4246-e98b-0d67e2ebdb09"
      },
      "execution_count": 112,
      "outputs": [
        {
          "output_type": "display_data",
          "data": {
            "text/plain": [
              "<Figure size 1080x360 with 4 Axes>"
            ],
            "image/png": "[encoded data removed]"
          },
          "metadata": {
            "needs_background": "light"
          }
        }
      ]
    },
    {
      "cell_type": "markdown",
      "source": [
        "Our KNN model has the best performance because of the high correlation in this dataset."
      ],
      "metadata": {
        "id": "GKmkkTyn2kD4"
      }
    }
  ]
}